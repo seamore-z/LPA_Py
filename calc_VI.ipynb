{
 "cells": [
  {
   "cell_type": "code",
   "execution_count": null,
   "id": "47bc9e65",
   "metadata": {},
   "outputs": [],
   "source": [
    "## -----------------------------------------------------------------------------------------------------------------##\n",
    "## Written by Eli Melaas, adapted for Python by Seamore Zhu \n",
    "## -----------------------------------------------------------------------------------------------------------------##"
   ]
  },
  {
   "cell_type": "code",
   "execution_count": 1,
   "id": "cfdf20a6",
   "metadata": {},
   "outputs": [],
   "source": [
    "from joblib import Parallel, delayed\n",
    "import sys\n",
    "import os\n",
    "import glob\n",
    "import shapely\n",
    "import numpy as np\n",
    "import geopandas as gpd\n",
    "from geopandas import GeoDataFrame\n",
    "import rasterio\n",
    "from osgeo import gdal"
   ]
  },
  {
   "cell_type": "code",
   "execution_count": 2,
   "id": "9740244a",
   "metadata": {},
   "outputs": [
    {
     "data": {
      "text/plain": [
       "Parallel(n_jobs=16)"
      ]
     },
     "execution_count": 2,
     "metadata": {},
     "output_type": "execute_result"
    }
   ],
   "source": [
    "# Register parallel processing with joblib\n",
    "Parallel(n_jobs=16) "
   ]
  },
  {
   "cell_type": "code",
   "execution_count": 3,
   "id": "2938ccb2",
   "metadata": {},
   "outputs": [],
   "source": [
    "# Topographic correction function"
   ]
  },
  {
   "cell_type": "code",
   "execution_count": 4,
   "id": "bb82d7a7",
   "metadata": {},
   "outputs": [],
   "source": [
    "# Vegetation index calculation function\n",
    "def calcVI(whatIndex, blue=None, green=None, red=None, nir=None, swir1=None, swir2=None):\n",
    "    if (whatIndex == 'evi'): index = 2.5*(nir - red) / (nir + 2.4*red - 7.5*blue)\n",
    "    if (whatIndex == 'evi2'): index = 2.5*(nir - red) / (nir + 2.4*red + 1)\n",
    "    if (whatIndex == 'ndvi'): index = (nir - red) / (nir + red)\n",
    "    if (whatIndex == 'ndmi'): index = (nir - swirOne) / (swirOne + nir)\n",
    "    if (whatIndex == 'nbr'): index = (nir - swirTwo) / (swirTwo + nir)\n",
    "    if (whatIndex == 'nbr2'): index = (swirOne - swirTwo) / (swirOne + swirTwo)\n",
    "    if (whatIndex == 'savi'): index = ((nir - red) / (nir + red + 0.5)) * 1.5\n",
    "    if (whatIndex == 'msavi'): index = (2*nir + 1 - sqrt((2*nir + 1)^2 - 8*(nir - red))) / 2\n",
    "    if (whatIndex == 'rcc'): index = red / (red + green + blue)\n",
    "    if (whatIndex == 'gcc'): index = green / (red + green + blue)\n",
    "    if (whatIndex == 'grvi'): index = (green-red) / (red + green)\n",
    "    if (whatIndex == 'ndsi'): index = (green-swirOne) / (green+swirOne)\n",
    "    if (whatIndex == 'npci'): index = (red - blue) / (red + blue)  #Hatfield et al. 2010\n",
    "    if (whatIndex == 'CIgreen'): index = (nir/green) - 1           #Hatfield et al. 2010\n",
    "    if (whatIndex == 'psri'): index = (red-green) / (nir)          #Hatfield et al. 2010\n",
    "    return index"
   ]
  },
  {
   "cell_type": "code",
   "execution_count": 5,
   "id": "c6633bda",
   "metadata": {},
   "outputs": [],
   "source": [
    "#args = sys.argv[1:]  # Get command-line arguments\n",
    "#tile = args[0]       # Extract the first argument to tile name\n",
    "#data_dir = args[1]   # Extract the second argument to data directory\n",
    "#tile_dir = args[2]   # Extract the third argument to tile directory\n",
    "#index = args[3]      # Extract the fourth argument to vegetation index\n",
    "\n",
    "tile = 'h15v02'  # Will be parameterized in json file and passed as argument using shell script (see above code)\n",
    "data_dir = '/projectnb/modislc/users/seamorez/Landsat_Pheno/ARD/'  # Will be parameterized in json file\n",
    "tile_dir = '/projectnb/modislc/projects/landsat_sentinel/ARD/'  # Will be parameterized in json file\n",
    "index = 'evi2' # Will be parameterized in json file\n",
    "\n",
    "H = int(tile[1:3])\n",
    "V = int(tile[4:6])\n",
    "\n",
    "os.chdir(data_dir+tile) "
   ]
  },
  {
   "cell_type": "code",
   "execution_count": null,
   "id": "008a3632",
   "metadata": {},
   "outputs": [],
   "source": [
    "# Generate ARD tile and save to directory (NOTE: THIS IS FOR AK, NOT CONUS)\n",
    "ard_tiles = gpd.read_file(tile_dir+'Alaska_C2_ARD_grid/ak_c2_ard_grid.shp')\n",
    "tile_shp = ard_tiles.loc[(ard_tiles['h']==H) & (ard_tiles['v']==V)]\n",
    "\n",
    "# Determine lat/lon extent of tile for NED download (NOTE: THIS MAY NEED EDITING WHEN DOING NEW TOPO CORRECTION FUNCTION)\n",
    "tile_proj = tile_shp.to_crs(\"+proj=aea +lat_1=29.5 +lat_2=45.5 +lat_0=23 +lon_0=-96 +x_0=0 +y_0=0 +datum=WGS84 +units=m +no_defs +ellps=WGS84 +towgs84=0,0,0\")\n",
    "tile_proj.to_file(os.getcwd()+'/SHP/'+'tile'+'.shp')"
   ]
  },
  {
   "cell_type": "code",
   "execution_count": null,
   "id": "13c950c5",
   "metadata": {},
   "outputs": [],
   "source": [
    "# Generate DEM, Slope, Aspect, and LC Maps"
   ]
  },
  {
   "cell_type": "code",
   "execution_count": 6,
   "id": "bacea4ac",
   "metadata": {},
   "outputs": [],
   "source": [
    "# Load in SR Bands, QA Layer, SZA, and SAA\n",
    "\n",
    "os.chdir(data_dir+tile+'/IMG')\n",
    "in_dirs = glob.glob(\"L*\", recursive=True)"
   ]
  },
  {
   "cell_type": "code",
   "execution_count": 9,
   "id": "b571e2ec",
   "metadata": {},
   "outputs": [],
   "source": [
    "# Check for images with missing evi outputs\n",
    "os.chdir(data_dir+tile)\n",
    "in_dirs_tile = glob.glob(\"**/\"+index+\".tif\", recursive=True)  # NOTE: ADD '_topocorr' IF USING TOPO CORRECTION\n",
    "in_dirs_tile = [os.path.abspath(dir_tile) for dir_tile in in_dirs_tile]\n",
    "ydoy = [os.path.basename(dir_SR)[15:23] for dir_SR in in_dirs_tile]\n",
    "ydoy2 = [os.path.basename(dir_SR)[15:23] for dir_SR in in_dirs]\n",
    "w = [i for i, d in enumerate(ydoy2) if d not in ydoy]"
   ]
  },
  {
   "cell_type": "code",
   "execution_count": null,
   "id": "16244120",
   "metadata": {},
   "outputs": [],
   "source": [
    "os.chdir(data_dir+tile+'/IMG')\n",
    "\n",
    "# Extract metadata for easier raster writing\n",
    "meta_file = rasterio.open(os.path.join(os.getcwd(), in_dirs[0], in_dirs[0] + '_02_SR_B4.TIF'),'r')\n",
    "meta = meta_file.meta\n",
    "meta.update(dtype='int16',nodata=32767)\n",
    "\n",
    "# Output vegetation index images\n",
    "for i in w:\n",
    "    # Landsat 8-9\n",
    "    if (in_dirs[i][3] == '8') | (in_dirs[i][3] == '9'):\n",
    "        nir = gdal.Open(os.path.join(os.getcwd(), in_dirs[i], in_dirs[i] + '_02_SR_B5.TIF'))\n",
    "        red = gdal.Open(os.path.join(in_dirs[i], in_dirs[i] + '_02_SR_B4.TIF'))\n",
    "        QA = gdal.Open(os.path.join(in_dirs[i], in_dirs[i] + '_02_QA_PIXEL.TIF'))\n",
    "\n",
    "        s = [red, nir, QA]\n",
    "        band_vals = [band.ReadAsArray() for band in s]\n",
    "        band_vals = np.array(band_vals).astype(float)\n",
    "        band_vals[band_vals<=0] = np.nan\n",
    "\n",
    "        qa = band_vals[2,]\n",
    "        k = np.where((qa!=21824)&(qa!=22080)&(qa!=54596)&(qa!=54852))  # L8-9 C2 ARD QA_PIXEL values for clear imagery\n",
    "        #w <- which(qa!=322 & qa!=386 & qa!=834 & qa!=898 & qa!=1346)\n",
    "        band_vals[0:2,k[0],k[1]] = np.nan\n",
    "        \n",
    "    # Landsat 4-7\n",
    "    else:\n",
    "        nir = gdal.Open(os.path.join(os.getcwd(), in_dirs[i], in_dirs[i] + '_02_SR_B4.TIF'))\n",
    "        red = gdal.Open(os.path.join(os.getcwd(), in_dirs[i], in_dirs[i] + '_02_SR_B3.TIF'))\n",
    "        QA = gdal.Open(os.path.join(os.getcwd(), in_dirs[i], in_dirs[i] + '_02_QA_PIXEL.TIF'))\n",
    "\n",
    "        s = [red, nir, QA]\n",
    "        band_vals = [band.ReadAsArray() for band in s]\n",
    "        band_vals = np.array(band_vals).astype(float)\n",
    "        band_vals[band_vals<=0] = np.nan\n",
    "        \n",
    "        qa = band_vals[2,]\n",
    "        k = np.where((qa!=5440)&(qa!=5696))  # L4-7 C2 ARD QA_PIXEL values for clear imagery\n",
    "        #w <- which(qa!=66 & qa!=130)\n",
    "        band_vals[0:2,k[0],k[1]] = np.nan\n",
    "\n",
    "    vi = calcVI(red=band_vals[0,],nir=band_vals[1,],whatIndex=index)    \n",
    "    vi = (vi*10000).round()\n",
    "    vi[(vi < 0) | (np.isinf(vi)) | (np.isnan(vi))] = 32767  # Remove negative, infinite, and nan values\n",
    "    vi = vi.astype('int16')\n",
    "    with rasterio.open(in_dirs[i]+'/'+index+'.tif', 'w', **meta) as dst:\n",
    "        dst.write(vi, 1)"
   ]
  },
  {
   "cell_type": "code",
   "execution_count": null,
   "id": "e538c586",
   "metadata": {},
   "outputs": [],
   "source": [
    "# Topographic correction output of vegetation index images"
   ]
  },
  {
   "cell_type": "code",
   "execution_count": null,
   "id": "d61cdd37",
   "metadata": {},
   "outputs": [],
   "source": []
  }
 ],
 "metadata": {
  "kernelspec": {
   "display_name": "Python 3",
   "language": "python",
   "name": "python3"
  },
  "language_info": {
   "codemirror_mode": {
    "name": "ipython",
    "version": 3
   },
   "file_extension": ".py",
   "mimetype": "text/x-python",
   "name": "python",
   "nbconvert_exporter": "python",
   "pygments_lexer": "ipython3",
   "version": "3.8.10"
  }
 },
 "nbformat": 4,
 "nbformat_minor": 5
}
